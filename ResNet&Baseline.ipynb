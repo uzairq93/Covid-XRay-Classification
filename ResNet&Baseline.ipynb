{
  "nbformat": 4,
  "nbformat_minor": 0,
  "metadata": {
    "colab": {
      "provenance": []
    },
    "kernelspec": {
      "name": "python3",
      "display_name": "Python 3"
    },
    "language_info": {
      "name": "python"
    },
    "gpuClass": "standard",
    "accelerator": "GPU"
  },
  "cells": [
    {
      "cell_type": "markdown",
      "source": [
        "# **Covid-19 detection on X-ray Images**\n"
      ],
      "metadata": {
        "id": "So-fR_tjhmyH"
      }
    },
    {
      "cell_type": "markdown",
      "source": [
        "Our final project seeks to use some deep neural networks to detect Covid-19 through X-ray images of patients. In this project, we aim to test different popular image recognition models on the covid-19 detection dataset on kaggle, with transfer learning technique. \n",
        "\n",
        "We found the covid-19 x-ray dataset from Kaggle with the following link: https://www.kaggle.com/datasets/manishkc06/covid19-detection."
      ],
      "metadata": {
        "id": "FxZoivlHZias"
      }
    },
    {
      "cell_type": "code",
      "execution_count": null,
      "metadata": {
        "colab": {
          "base_uri": "https://localhost:8080/"
        },
        "id": "tTh0WYRDmPZw",
        "outputId": "79d4179e-9a83-427a-a971-b93cf67d7a99"
      },
      "outputs": [
        {
          "output_type": "stream",
          "name": "stdout",
          "text": [
            "Mounted at /content/drive\n"
          ]
        }
      ],
      "source": [
        "from google.colab import drive\n",
        "drive.mount('/content/drive')"
      ]
    },
    {
      "cell_type": "code",
      "source": [
        "import pandas as pd\n",
        "from PIL import Image\n",
        "import os\n",
        "import torch.nn as nn"
      ],
      "metadata": {
        "id": "n7n3d8X9u5LX"
      },
      "execution_count": null,
      "outputs": []
    },
    {
      "cell_type": "code",
      "source": [
        "df = pd.read_csv('drive/MyDrive/project-forceofwill/archive/Training_set_covid.csv')\n",
        "train_img_path = 'drive/MyDrive/project-forceofwill/archive/train/train'"
      ],
      "metadata": {
        "id": "AGyHM-83u4tN"
      },
      "execution_count": null,
      "outputs": []
    },
    {
      "cell_type": "code",
      "source": [
        "#show sample image\n",
        "\n",
        "from tqdm import tqdm\n",
        "\n",
        "imgs = []\n",
        "labels = []\n",
        "for i in tqdm(range(len(df['filename']))):\n",
        "    img = Image.open(os.path.join(train_img_path, df['filename'][i]))\n",
        "    imgs.append(img)\n",
        "    labels.append(df['label'][i])"
      ],
      "metadata": {
        "colab": {
          "base_uri": "https://localhost:8080/"
        },
        "id": "UFeO-sj5voQJ",
        "outputId": "7c56fea6-125c-4bd5-d342-93ab20260742"
      },
      "execution_count": null,
      "outputs": [
        {
          "output_type": "stream",
          "name": "stderr",
          "text": [
            "100%|██████████| 3479/3479 [26:47<00:00,  2.16it/s]\n"
          ]
        }
      ]
    },
    {
      "cell_type": "markdown",
      "source": [
        "class CovidData(Dataset): Custom PyTorch Dataset class for loading the Covid-19 dataset.\n",
        "\n",
        "    Parameters:\n",
        "            imgs (list): A list of loaded images.\n",
        "            labels (list): A list of labels corresponding to each image.\n",
        "            transform (callable): A function/transform to apply to the images.\n",
        "\n",
        "    Returns:\n",
        "            tuple: A tuple containing the transformed image and its corresponding label.\n",
        "\n",
        "    Training set transformations include resizing the images, random horizontal flipping, random perspective changes, converting to a tensor, and normalizing the pixel values. The testing set transformations only resize and normalize the pixel values."
      ],
      "metadata": {
        "id": "hAGcLwc1dPTc"
      }
    },
    {
      "cell_type": "code",
      "source": [
        "from torch.utils.data import Dataset, DataLoader\n",
        "import torch\n",
        "from sklearn.model_selection import train_test_split\n",
        "from torchvision import transforms, models, datasets\n",
        "from sklearn.metrics import classification_report\n",
        "\n",
        "\n",
        "train_transform = transforms.Compose([\n",
        "    transforms.Resize((224, 224)),\n",
        "    transforms.RandomHorizontalFlip(),\n",
        "    transforms.RandomPerspective(0.3),\n",
        "    transforms.ToTensor(),\n",
        "    transforms.Normalize(mean=[0.485, 0.456, 0.406], std=[0.229, 0.224, 0.225])\n",
        "])\n",
        "\n",
        "test_transform = transforms.Compose([\n",
        "    transforms.Resize((224, 224)),\n",
        "    transforms.ToTensor(),\n",
        "    transforms.Normalize(mean=[0.485, 0.456, 0.406], std=[0.229, 0.224, 0.225])\n",
        "])\n",
        "\n",
        "class CovidData(Dataset):\n",
        "    def __init__(self, imgs, labels, transform):\n",
        "        super().__init__()\n",
        "        self.imgs = imgs\n",
        "        self.labels = labels\n",
        "        self.transform = transform\n",
        "        \n",
        "    def __len__(self):\n",
        "        return len(self.labels)\n",
        "    \n",
        "    def __getitem__(self, idx):\n",
        "        return self.transform(self.imgs[idx]), torch.tensor(self.labels[idx])\n",
        "\n",
        "train_x, test_x, train_y, test_y = train_test_split(imgs, labels, test_size=0.2, random_state=1234)\n",
        "trainset, testset = CovidData(train_x, train_y, transform=train_transform), CovidData(test_x, test_y, transform=test_transform)\n",
        "\n",
        "train_loader = DataLoader(trainset, batch_size=128, shuffle=True)\n",
        "test_loader = DataLoader(testset, batch_size=128, shuffle=False)"
      ],
      "metadata": {
        "id": "P67oWuFryNMk"
      },
      "execution_count": null,
      "outputs": []
    },
    {
      "cell_type": "markdown",
      "source": [
        "def acc(output, target):\n",
        "    Calculates the accuracy of the model's predictions.\n",
        "\n",
        "    Parameters:\n",
        "        output (tensor): The model's predicted output.\n",
        "        target (tensor): The target labels.\n",
        "\n",
        "    Returns:\n",
        "        int: The number of correct predictions.\n",
        "\n",
        "def train(model, opt, cri, loader, epoch):\n",
        "  Trains the model for one epoch.\n",
        "\n",
        "    Parameters:\n",
        "        model (nn.Module): The deep learning model.\n",
        "        opt (torch.optim): The optimizer for training.\n",
        "        cri (torch.nn): The loss function for training.\n",
        "        loader (DataLoader): The data loader for training data.\n",
        "        epoch (int): The current epoch number.\n",
        "\n",
        "    Returns:\n",
        "        tuple: A tuple containing the average loss and accuracy for the epoch.\n",
        "\n",
        "def test(model, cri, loader, epoch):\n",
        "    \n",
        "Evaluates the model on the test set.\n",
        "\n",
        "    Parameters:\n",
        "        model (nn.Module): The deep learning model.\n",
        "        cri (torch.nn): The loss function for testing.\n",
        "        loader (DataLoader): The data loader for testing data.\n",
        "        epoch (int): The current epoch number.\n",
        "\n",
        "    Returns:\n",
        "        tuple: A tuple containing the average loss and accuracy for the test set.\n",
        "    \n",
        "def classify(model, loader):\n",
        "   \n",
        "Evaluates the model and produces classification\n",
        "\n",
        "    Parameters:\n",
        "        model (nn.Module): The deep learning model.\n",
        "        loader (DataLoader): The data loader for testing data.\n",
        "\n"
      ],
      "metadata": {
        "id": "iWLaTgBXetIx"
      }
    },
    {
      "cell_type": "code",
      "source": [
        "from tqdm import tqdm\n",
        "\n",
        "def acc(output, target):\n",
        "    output = torch.sigmoid(output) >= 0.5\n",
        "    target = target == 1.0\n",
        "    return (target == output).sum().item()\n",
        "\n",
        "def train(model, opt, cri, loader, epoch):\n",
        "\n",
        "  total_loss, total_step, total_correct, total_sample = 0.0, 0.0, 0.0, 0.0\n",
        "  model.zero_grad()\n",
        "  model.train()\n",
        "  p_bar = tqdm(loader, total=len(loader))\n",
        "\n",
        "  for (x,y) in p_bar:\n",
        "    \n",
        "    total_sample += x.size(0)\n",
        "    total_step += 1\n",
        "    x, y = x.cuda(), y.cuda()\n",
        "    opt.zero_grad()\n",
        "    pred = model(x).squeeze(-1)\n",
        "    loss = cri(pred, y.float())\n",
        "    loss.backward()\n",
        "    opt.step()\n",
        "    total_loss += loss.item()\n",
        "    total_correct += acc(pred, y)\n",
        "\n",
        "    desc = f'[Train] epoch {epoch} loss {round(total_loss/total_step, 3)} acc {round(100*total_correct/total_sample, 2)}'\n",
        "    p_bar.set_description(desc)\n",
        "\n",
        "  return round(total_loss/total_step, 3), round(100*total_correct/total_sample, 2)\n",
        "\n",
        "def test(model, cri, loader, epoch):\n",
        "\n",
        "  total_loss, total_step, total_correct, total_sample = 0.0, 0.0, 0.0, 0.0\n",
        "  model.eval()\n",
        "  p_bar = tqdm(loader, total=len(loader))\n",
        "\n",
        "  with torch.no_grad():\n",
        "    for (x,y) in p_bar:\n",
        "      \n",
        "      total_sample += x.size(0)\n",
        "      total_step += 1\n",
        "      x, y = x.cuda(), y.cuda()\n",
        "      pred = model(x).squeeze(-1)\n",
        "      loss = cri(pred, y.float())\n",
        "      total_loss += loss.item()\n",
        "      total_correct += acc(pred, y)\n",
        "\n",
        "      desc = f'[Test] epoch {epoch} loss {round(total_loss/total_step, 3)} acc {round(100*total_correct/total_sample, 2)}'\n",
        "      p_bar.set_description(desc)\n",
        "  return round(total_loss/total_step, 3), round(100*total_correct/total_sample, 2)\n",
        "\n",
        "\n",
        "def classify(model, loader):\n",
        "\n",
        "  model.eval()\n",
        "  p_bar = tqdm(loader, total=len(loader))\n",
        "  preds, labels = [], []\n",
        "  with torch.no_grad():\n",
        "    for (x,y) in p_bar:\n",
        "      \n",
        "      x, y = x.cuda(), y.cuda()\n",
        "      pred = model(x).squeeze(-1)\n",
        "      pred = torch.sigmoid(pred) >= 0.5\n",
        "      preds = preds + pred.tolist()\n",
        "      labels = labels + y.tolist()\n",
        "\n",
        "  print(classification_report(labels, preds, target_names=['neg', 'pos']))"
      ],
      "metadata": {
        "id": "VuCf0XJXymnd"
      },
      "execution_count": null,
      "outputs": []
    },
    {
      "cell_type": "code",
      "source": [
        "device = \"cuda\" if torch.cuda.is_available() else \"cpu\"\n",
        "ResNet = models.resnet50(pretrained=True)\n",
        "nr_filters = ResNet.fc.in_features  #number of input features of last layer\n",
        "ResNet.fc = nn.Linear(nr_filters, 1)"
      ],
      "metadata": {
        "id": "PDtAtaXkyvXN"
      },
      "execution_count": null,
      "outputs": []
    },
    {
      "cell_type": "markdown",
      "source": [
        "This code block trains and evaluates a ResNet50 model on the Covid-19 dataset. "
      ],
      "metadata": {
        "id": "GOOXVMk5kF9T"
      }
    },
    {
      "cell_type": "code",
      "source": [
        "# Normal ResNet 50 Training\n",
        "\n",
        "torch.cuda.empty_cache()\n",
        "\n",
        "ResNet = ResNet.to(device)\n",
        "opt = torch.optim.Adam(ResNet.parameters(), lr=0.0005)\n",
        "cri = torch.nn.BCEWithLogitsLoss()\n",
        "EPOCH = 20\n",
        "\n",
        "sch = torch.optim.lr_scheduler.CosineAnnealingLR(opt, EPOCH)\n",
        "\n",
        "logs = {\n",
        "    'train loss':[],\n",
        "    'train acc':[],\n",
        "    'test loss':[],\n",
        "    'test acc':[],\n",
        "    'lr':[]\n",
        "    }\n",
        "\n",
        "\n",
        "best_loss = 10000\n",
        "classify(ResNet, test_loader)\n",
        "\n",
        "for e in range(EPOCH):\n",
        "\n",
        "  train_loss, train_acc = train(ResNet, opt, cri, train_loader, e)\n",
        "  test_loss, test_acc = test(ResNet,  cri, test_loader, e)\n",
        "  logs['train loss'].append(train_loss)\n",
        "  logs['train acc'].append(train_acc)\n",
        "  logs['test loss'].append(test_loss)\n",
        "  logs['test acc'].append(test_acc)\n",
        "  sch.step()\n",
        "  logs['lr'].append(sch.get_last_lr()[0])\n",
        "  if test_loss <= best_loss:\n",
        "    best_loss = test_loss\n",
        "    torch.save(ResNet.state_dict(), 'model.pt')\n",
        "\n",
        "\n",
        "ResNet.load_state_dict(torch.load('model.pt'))\n",
        "classify(ResNet, test_loader)"
      ],
      "metadata": {
        "colab": {
          "base_uri": "https://localhost:8080/"
        },
        "id": "Ocx4AvmQypwN",
        "outputId": "bd7a29aa-49a1-480e-b310-d99045822174"
      },
      "execution_count": null,
      "outputs": [
        {
          "metadata": {
            "tags": null
          },
          "name": "stderr",
          "output_type": "stream",
          "text": [
            "100%|██████████| 6/6 [00:19<00:00,  3.21s/it]\n"
          ]
        },
        {
          "metadata": {
            "tags": null
          },
          "name": "stdout",
          "output_type": "stream",
          "text": [
            "              precision    recall  f1-score   support\n",
            "\n",
            "         neg       0.88      0.92      0.90       613\n",
            "         pos       0.14      0.10      0.11        83\n",
            "\n",
            "    accuracy                           0.82       696\n",
            "   macro avg       0.51      0.51      0.51       696\n",
            "weighted avg       0.79      0.82      0.81       696\n",
            "\n"
          ]
        },
        {
          "output_type": "stream",
          "name": "stderr",
          "text": [
            "[Train] epoch 0 loss 0.199 acc 89.65: 100%|██████████| 22/22 [01:21<00:00,  3.71s/it]\n",
            "[Test] epoch 0 loss 0.18 acc 92.1: 100%|██████████| 6/6 [00:05<00:00,  1.07it/s]\n",
            "[Train] epoch 1 loss 0.113 acc 94.5: 100%|██████████| 22/22 [00:42<00:00,  1.92s/it]\n",
            "[Test] epoch 1 loss 0.271 acc 95.11: 100%|██████████| 6/6 [00:04<00:00,  1.29it/s]\n",
            "[Train] epoch 2 loss 0.092 acc 95.98: 100%|██████████| 22/22 [00:42<00:00,  1.94s/it]\n",
            "[Test] epoch 2 loss 0.288 acc 89.51: 100%|██████████| 6/6 [00:05<00:00,  1.12it/s]\n",
            "[Train] epoch 3 loss 0.085 acc 96.44: 100%|██████████| 22/22 [00:41<00:00,  1.88s/it]\n",
            "[Test] epoch 3 loss 0.106 acc 95.83: 100%|██████████| 6/6 [00:04<00:00,  1.30it/s]\n",
            "[Train] epoch 4 loss 0.08 acc 96.69: 100%|██████████| 22/22 [00:41<00:00,  1.89s/it]\n",
            "[Test] epoch 4 loss 0.116 acc 94.25: 100%|██████████| 6/6 [00:05<00:00,  1.16it/s]\n",
            "[Train] epoch 5 loss 0.064 acc 97.41: 100%|██████████| 22/22 [00:42<00:00,  1.94s/it]\n",
            "[Test] epoch 5 loss 0.106 acc 96.41: 100%|██████████| 6/6 [00:04<00:00,  1.30it/s]\n",
            "[Train] epoch 6 loss 0.059 acc 97.2: 100%|██████████| 22/22 [00:42<00:00,  1.91s/it]\n",
            "[Test] epoch 6 loss 0.137 acc 93.68: 100%|██████████| 6/6 [00:04<00:00,  1.23it/s]\n",
            "[Train] epoch 7 loss 0.053 acc 97.77: 100%|██████████| 22/22 [00:41<00:00,  1.90s/it]\n",
            "[Test] epoch 7 loss 0.228 acc 93.1: 100%|██████████| 6/6 [00:05<00:00,  1.20it/s]\n",
            "[Train] epoch 8 loss 0.051 acc 97.77: 100%|██████████| 22/22 [00:42<00:00,  1.94s/it]\n",
            "[Test] epoch 8 loss 0.117 acc 94.25: 100%|██████████| 6/6 [00:04<00:00,  1.30it/s]\n",
            "[Train] epoch 9 loss 0.037 acc 98.6: 100%|██████████| 22/22 [00:41<00:00,  1.88s/it]\n",
            "[Test] epoch 9 loss 0.093 acc 97.27: 100%|██████████| 6/6 [00:05<00:00,  1.14it/s]\n",
            "[Train] epoch 10 loss 0.038 acc 98.49: 100%|██████████| 22/22 [00:41<00:00,  1.89s/it]\n",
            "[Test] epoch 10 loss 0.087 acc 96.7: 100%|██████████| 6/6 [00:04<00:00,  1.30it/s]\n",
            "[Train] epoch 11 loss 0.04 acc 98.42: 100%|██████████| 22/22 [00:42<00:00,  1.93s/it]\n",
            "[Test] epoch 11 loss 0.069 acc 97.7: 100%|██████████| 6/6 [00:05<00:00,  1.17it/s]\n",
            "[Train] epoch 12 loss 0.029 acc 98.74: 100%|██████████| 22/22 [00:41<00:00,  1.88s/it]\n",
            "[Test] epoch 12 loss 0.084 acc 97.13: 100%|██████████| 6/6 [00:04<00:00,  1.26it/s]\n",
            "[Train] epoch 13 loss 0.019 acc 99.28: 100%|██████████| 22/22 [00:41<00:00,  1.90s/it]\n",
            "[Test] epoch 13 loss 0.106 acc 96.26: 100%|██████████| 6/6 [00:04<00:00,  1.29it/s]\n",
            "[Train] epoch 14 loss 0.015 acc 99.46: 100%|██████████| 22/22 [00:41<00:00,  1.90s/it]\n",
            "[Test] epoch 14 loss 0.086 acc 96.98: 100%|██████████| 6/6 [00:05<00:00,  1.12it/s]\n",
            "[Train] epoch 15 loss 0.011 acc 99.6: 100%|██████████| 22/22 [00:41<00:00,  1.89s/it]\n",
            "[Test] epoch 15 loss 0.084 acc 97.56: 100%|██████████| 6/6 [00:04<00:00,  1.30it/s]\n",
            "[Train] epoch 16 loss 0.007 acc 99.86: 100%|██████████| 22/22 [00:41<00:00,  1.90s/it]\n",
            "[Test] epoch 16 loss 0.084 acc 97.13: 100%|██████████| 6/6 [00:05<00:00,  1.16it/s]\n",
            "[Train] epoch 17 loss 0.006 acc 99.86: 100%|██████████| 22/22 [00:41<00:00,  1.89s/it]\n",
            "[Test] epoch 17 loss 0.085 acc 97.41: 100%|██████████| 6/6 [00:05<00:00,  1.08it/s]\n",
            "[Train] epoch 18 loss 0.005 acc 99.89: 100%|██████████| 22/22 [00:42<00:00,  1.92s/it]\n",
            "[Test] epoch 18 loss 0.085 acc 97.41: 100%|██████████| 6/6 [00:04<00:00,  1.30it/s]\n",
            "[Train] epoch 19 loss 0.005 acc 99.93: 100%|██████████| 22/22 [00:41<00:00,  1.90s/it]\n",
            "[Test] epoch 19 loss 0.087 acc 97.41: 100%|██████████| 6/6 [00:05<00:00,  1.12it/s]\n",
            "100%|██████████| 6/6 [00:04<00:00,  1.31it/s]"
          ]
        },
        {
          "output_type": "stream",
          "name": "stdout",
          "text": [
            "              precision    recall  f1-score   support\n",
            "\n",
            "         neg       0.99      0.99      0.99       613\n",
            "         pos       0.91      0.89      0.90        83\n",
            "\n",
            "    accuracy                           0.98       696\n",
            "   macro avg       0.95      0.94      0.94       696\n",
            "weighted avg       0.98      0.98      0.98       696\n",
            "\n"
          ]
        },
        {
          "output_type": "stream",
          "name": "stderr",
          "text": [
            "\n"
          ]
        }
      ]
    },
    {
      "cell_type": "markdown",
      "source": [
        "The accuracies above are the results of Normal ResNet 50 Training.\n",
        "\n",
        "And codes below plotted the loss, accuracy and the learning rate of this model."
      ],
      "metadata": {
        "id": "jAzwMFPtaov4"
      }
    },
    {
      "cell_type": "code",
      "source": [
        "import matplotlib.pyplot as plt\n",
        "\n",
        "x = [i for i in range(1, 21)]\n",
        "\n",
        "# loss\n",
        "plt.plot( x, logs['train loss'], label='train loss')\n",
        "plt.plot( x, logs['test loss'], label='test loss')\n",
        "plt.xlabel('epoch')\n",
        "plt.ylabel('loss')\n",
        "plt.legend()\n",
        "plt.show()\n",
        "\n",
        "plt.clf()\n",
        "\n",
        "# acc\n",
        "plt.plot( x, logs['train acc'], label='train acc')\n",
        "plt.plot( x, logs['test acc'], label='test acc')\n",
        "plt.xlabel('epoch')\n",
        "plt.ylabel('acc')\n",
        "plt.legend()\n",
        "plt.show()\n",
        "\n",
        "plt.clf()\n",
        "\n",
        "# lr\n",
        "\n",
        "plt.plot( x, logs['lr'], label='learning rate')\n",
        "plt.xlabel('epoch')\n",
        "plt.ylabel('learning rate')\n",
        "plt.show()"
      ],
      "metadata": {
        "colab": {
          "base_uri": "https://localhost:8080/",
          "height": 806
        },
        "id": "xL0ISEHv968N",
        "outputId": "8d01c5d5-03e1-4c36-dca3-ae902550476a"
      },
      "execution_count": null,
      "outputs": [
        {
          "output_type": "display_data",
          "data": {
            "text/plain": [
              "<Figure size 432x288 with 1 Axes>"
            ],
            "image/png": "[encoded data removed]"
          },
          "metadata": {
            "needs_background": "light"
          }
        },
        {
          "output_type": "display_data",
          "data": {
            "text/plain": [
              "<Figure size 432x288 with 1 Axes>"
            ],
            "image/png": "[encoded data removed]"
          },
          "metadata": {
            "needs_background": "light"
          }
        },
        {
          "output_type": "display_data",
          "data": {
            "text/plain": [
              "<Figure size 432x288 with 1 Axes>"
            ],
            "image/png": "[encoded data removed]"
          },
          "metadata": {
            "needs_background": "light"
          }
        }
      ]
    },
    {
      "cell_type": "markdown",
      "source": [
        "class Baseline(torch.nn.Module):\n",
        "    \n",
        "   A deep learning model for Covid-19 detection using X-ray images.\n",
        "  The model architecture consists of several convolutional layers, pooling layers, dropout layers, and fully connected layers.\n",
        "\n",
        "    Attributes:\n",
        "        conv1 (nn.Conv2d): The first convolutional layer.\n",
        "        pool (nn.MaxPool2d): The max pooling layer.\n",
        "        conv2 (nn.Conv2d): The second convolutional layer.\n",
        "        dropout (nn.Dropout): The dropout layer.\n",
        "        conv3 (nn.Conv2d): The third convolutional layer.\n",
        "        fc1 (nn.Linear): The first fully connected layer.\n",
        "        fc2 (nn.Linear): The second fully connected layer.\n",
        "        fc3 (nn.Linear): The third fully connected layer.\n",
        "        fc4 (nn.Linear): The fourth fully connected layer.\n",
        "        fc5 (nn.Linear): The output layer.\n",
        "\n",
        "    Methods:\n",
        "        forward(x): Performs a forward pass through the model to make predictions.\n",
        "\n",
        "  "
      ],
      "metadata": {
        "id": "dAHwq4tpkuRO"
      }
    },
    {
      "cell_type": "code",
      "source": [
        "from re import X\n",
        "import torch.nn.functional as F\n",
        "class Baseline(torch.nn.Module):\n",
        "    \n",
        "    def __init__(self):\n",
        "        super(Baseline, self).__init__()\n",
        "        # convolutional layer\n",
        "        self.conv1 = nn.Conv2d(3, 16, 7)\n",
        "        # max pooling layer\n",
        "        self.pool = nn.MaxPool2d(2, 2)\n",
        "        self.conv2 = nn.Conv2d(16, 32, 5)\n",
        "        self.dropout = nn.Dropout(0.2)\n",
        "        self.conv3 = nn.Conv2d(32, 64, 3)\n",
        "        self.fc1 = nn.Linear(64*25*25, 1024)\n",
        "        self.fc2 = nn.Linear(1024, 512)\n",
        "        self.fc3 = nn.Linear(512, 256)\n",
        "        self.fc4 = nn.Linear(256, 64)\n",
        "        self.fc5 = nn.Linear(64, 1)\n",
        "        \n",
        "    def forward(self, x):\n",
        "        # add sequence of convolutional and max pooling layers\n",
        "        x = self.pool(F.relu(self.conv1(x)))\n",
        "        x = self.pool(F.relu(self.conv2(x)))\n",
        "        x = self.dropout(x)\n",
        "        x = self.pool(F.relu(self.conv3(x)))\n",
        "        x = self.dropout(x)\n",
        "        x = x.view(-1, 64 * 25 * 25)\n",
        "        x = F.relu(self.fc1(x))\n",
        "        x = self.dropout(F.relu(self.fc2(x)))\n",
        "        x = F.relu(self.fc3(x))\n",
        "        x = self.dropout(F.relu(self.fc4(x)))\n",
        "        x = self.fc5(x)\n",
        "        return x"
      ],
      "metadata": {
        "id": "pDA9xYjpygSv"
      },
      "execution_count": null,
      "outputs": []
    },
    {
      "cell_type": "markdown",
      "source": [
        "This code block trains and evaluates the Baseline model on the Covid-19 dataset. It saves the model with the best testing loss."
      ],
      "metadata": {
        "id": "4C-OShBRlRqz"
      }
    },
    {
      "cell_type": "code",
      "source": [
        "# Normal baseline Training\n",
        "\n",
        "torch.cuda.empty_cache()\n",
        "\n",
        "net = Baseline().to(device)\n",
        "opt = torch.optim.Adam(net.parameters(), lr=0.0002)\n",
        "cri = torch.nn.BCEWithLogitsLoss()\n",
        "EPOCH = 30\n",
        "\n",
        "sch = torch.optim.lr_scheduler.CosineAnnealingLR(opt, EPOCH)\n",
        "logs = {\n",
        "    'train loss':[],\n",
        "    'train acc':[],\n",
        "    'test loss':[],\n",
        "    'test acc':[],\n",
        "    'lr':[]\n",
        "    }\n",
        "\n",
        "\n",
        "best_loss = 10000\n",
        "classify(net, test_loader)\n",
        "\n",
        "for e in range(EPOCH):\n",
        "\n",
        "  train_loss, train_acc = train(net, opt, cri, train_loader, e)\n",
        "  test_loss, test_acc = test(net, cri, test_loader, e)\n",
        "  logs['train loss'].append(train_loss)\n",
        "  logs['train acc'].append(train_acc)\n",
        "  logs['test loss'].append(test_loss)\n",
        "  logs['test acc'].append(test_acc)\n",
        "  sch.step()\n",
        "  logs['lr'].append(sch.get_last_lr()[0])\n",
        "  if test_loss <= best_loss:\n",
        "    best_loss = test_loss\n",
        "    torch.save(net.state_dict(), 'model.pt')\n",
        "\n",
        "\n",
        "net.load_state_dict(torch.load('model.pt'))\n",
        "classify(net, test_loader)"
      ],
      "metadata": {
        "colab": {
          "base_uri": "https://localhost:8080/"
        },
        "id": "03VcUCfmA7BV",
        "outputId": "00f5d66c-c9d1-4418-930c-2544ce90aee9"
      },
      "execution_count": null,
      "outputs": [
        {
          "output_type": "stream",
          "name": "stderr",
          "text": [
            "100%|██████████| 6/6 [00:05<00:00,  1.20it/s]\n",
            "/usr/local/lib/python3.8/dist-packages/sklearn/metrics/_classification.py:1344: UndefinedMetricWarning: Precision and F-score are ill-defined and being set to 0.0 in labels with no predicted samples. Use `zero_division` parameter to control this behavior.\n",
            "  _warn_prf(average, modifier, msg_start, len(result))\n",
            "/usr/local/lib/python3.8/dist-packages/sklearn/metrics/_classification.py:1344: UndefinedMetricWarning: Precision and F-score are ill-defined and being set to 0.0 in labels with no predicted samples. Use `zero_division` parameter to control this behavior.\n",
            "  _warn_prf(average, modifier, msg_start, len(result))\n",
            "/usr/local/lib/python3.8/dist-packages/sklearn/metrics/_classification.py:1344: UndefinedMetricWarning: Precision and F-score are ill-defined and being set to 0.0 in labels with no predicted samples. Use `zero_division` parameter to control this behavior.\n",
            "  _warn_prf(average, modifier, msg_start, len(result))\n"
          ]
        },
        {
          "output_type": "stream",
          "name": "stdout",
          "text": [
            "              precision    recall  f1-score   support\n",
            "\n",
            "         neg       0.00      0.00      0.00       613\n",
            "         pos       0.12      1.00      0.21        83\n",
            "\n",
            "    accuracy                           0.12       696\n",
            "   macro avg       0.06      0.50      0.11       696\n",
            "weighted avg       0.01      0.12      0.03       696\n",
            "\n"
          ]
        },
        {
          "output_type": "stream",
          "name": "stderr",
          "text": [
            "[Train] epoch 0 loss 0.367 acc 84.98: 100%|██████████| 22/22 [00:20<00:00,  1.06it/s]\n",
            "[Test] epoch 0 loss 0.32 acc 88.07: 100%|██████████| 6/6 [00:03<00:00,  1.95it/s]\n",
            "[Train] epoch 1 loss 0.281 acc 88.39: 100%|██████████| 22/22 [00:20<00:00,  1.10it/s]\n",
            "[Test] epoch 1 loss 0.269 acc 88.07: 100%|██████████| 6/6 [00:03<00:00,  1.55it/s]\n",
            "[Train] epoch 2 loss 0.251 acc 88.5: 100%|██████████| 22/22 [00:19<00:00,  1.12it/s]\n",
            "[Test] epoch 2 loss 0.247 acc 89.08: 100%|██████████| 6/6 [00:03<00:00,  1.56it/s]\n",
            "[Train] epoch 3 loss 0.227 acc 90.26: 100%|██████████| 22/22 [00:20<00:00,  1.08it/s]\n",
            "[Test] epoch 3 loss 0.212 acc 89.8: 100%|██████████| 6/6 [00:03<00:00,  1.93it/s]\n",
            "[Train] epoch 4 loss 0.21 acc 90.84: 100%|██████████| 22/22 [00:21<00:00,  1.03it/s]\n",
            "[Test] epoch 4 loss 0.193 acc 92.1: 100%|██████████| 6/6 [00:03<00:00,  1.57it/s]\n",
            "[Train] epoch 5 loss 0.184 acc 92.2: 100%|██████████| 22/22 [00:22<00:00,  1.00s/it]\n",
            "[Test] epoch 5 loss 0.168 acc 92.82: 100%|██████████| 6/6 [00:03<00:00,  1.94it/s]\n",
            "[Train] epoch 6 loss 0.175 acc 92.2: 100%|██████████| 22/22 [00:19<00:00,  1.11it/s]\n",
            "[Test] epoch 6 loss 0.209 acc 93.82: 100%|██████████| 6/6 [00:03<00:00,  1.54it/s]\n",
            "[Train] epoch 7 loss 0.173 acc 92.24: 100%|██████████| 22/22 [00:19<00:00,  1.14it/s]\n",
            "[Test] epoch 7 loss 0.146 acc 93.1: 100%|██████████| 6/6 [00:03<00:00,  1.88it/s]\n",
            "[Train] epoch 8 loss 0.156 acc 93.21: 100%|██████████| 22/22 [00:20<00:00,  1.09it/s]\n",
            "[Test] epoch 8 loss 0.164 acc 94.25: 100%|██████████| 6/6 [00:03<00:00,  1.92it/s]\n",
            "[Train] epoch 9 loss 0.15 acc 93.53: 100%|██████████| 22/22 [00:20<00:00,  1.07it/s]\n",
            "[Test] epoch 9 loss 0.136 acc 94.4: 100%|██████████| 6/6 [00:03<00:00,  1.82it/s]\n",
            "[Train] epoch 10 loss 0.154 acc 93.17: 100%|██████████| 22/22 [00:19<00:00,  1.11it/s]\n",
            "[Test] epoch 10 loss 0.149 acc 94.68: 100%|██████████| 6/6 [00:04<00:00,  1.21it/s]\n",
            "[Train] epoch 11 loss 0.14 acc 94.04: 100%|██████████| 22/22 [00:19<00:00,  1.11it/s]\n",
            "[Test] epoch 11 loss 0.123 acc 95.26: 100%|██████████| 6/6 [00:03<00:00,  1.96it/s]\n",
            "[Train] epoch 12 loss 0.145 acc 93.5: 100%|██████████| 22/22 [00:20<00:00,  1.07it/s]\n",
            "[Test] epoch 12 loss 0.125 acc 94.54: 100%|██████████| 6/6 [00:03<00:00,  1.92it/s]\n",
            "[Train] epoch 13 loss 0.134 acc 93.42: 100%|██████████| 22/22 [00:19<00:00,  1.14it/s]\n",
            "[Test] epoch 13 loss 0.123 acc 95.4: 100%|██████████| 6/6 [00:04<00:00,  1.38it/s]\n",
            "[Train] epoch 14 loss 0.144 acc 93.71: 100%|██████████| 22/22 [00:19<00:00,  1.13it/s]\n",
            "[Test] epoch 14 loss 0.127 acc 94.83: 100%|██████████| 6/6 [00:03<00:00,  1.95it/s]\n",
            "[Train] epoch 15 loss 0.13 acc 94.04: 100%|██████████| 22/22 [00:20<00:00,  1.08it/s]\n",
            "[Test] epoch 15 loss 0.126 acc 94.97: 100%|██████████| 6/6 [00:03<00:00,  1.95it/s]\n",
            "[Train] epoch 16 loss 0.127 acc 93.93: 100%|██████████| 22/22 [00:19<00:00,  1.11it/s]\n",
            "[Test] epoch 16 loss 0.12 acc 95.11: 100%|██████████| 6/6 [00:04<00:00,  1.46it/s]\n",
            "[Train] epoch 17 loss 0.126 acc 93.78: 100%|██████████| 22/22 [00:20<00:00,  1.08it/s]\n",
            "[Test] epoch 17 loss 0.119 acc 95.11: 100%|██████████| 6/6 [00:04<00:00,  1.44it/s]\n",
            "[Train] epoch 18 loss 0.126 acc 94.14: 100%|██████████| 22/22 [00:19<00:00,  1.14it/s]\n",
            "[Test] epoch 18 loss 0.128 acc 94.83: 100%|██████████| 6/6 [00:03<00:00,  1.93it/s]\n",
            "[Train] epoch 19 loss 0.124 acc 94.29: 100%|██████████| 22/22 [00:20<00:00,  1.07it/s]\n",
            "[Test] epoch 19 loss 0.117 acc 95.26: 100%|██████████| 6/6 [00:03<00:00,  1.94it/s]\n",
            "[Train] epoch 20 loss 0.117 acc 94.57: 100%|██████████| 22/22 [00:19<00:00,  1.10it/s]\n",
            "[Test] epoch 20 loss 0.119 acc 95.4: 100%|██████████| 6/6 [00:03<00:00,  1.55it/s]\n",
            "[Train] epoch 21 loss 0.119 acc 94.04: 100%|██████████| 22/22 [00:19<00:00,  1.13it/s]\n",
            "[Test] epoch 21 loss 0.118 acc 95.26: 100%|██████████| 6/6 [00:03<00:00,  1.84it/s]\n",
            "[Train] epoch 22 loss 0.117 acc 94.21: 100%|██████████| 22/22 [00:20<00:00,  1.07it/s]\n",
            "[Test] epoch 22 loss 0.116 acc 95.26: 100%|██████████| 6/6 [00:03<00:00,  1.93it/s]\n",
            "[Train] epoch 23 loss 0.111 acc 94.39: 100%|██████████| 22/22 [00:21<00:00,  1.04it/s]\n",
            "[Test] epoch 23 loss 0.116 acc 95.4: 100%|██████████| 6/6 [00:04<00:00,  1.45it/s]\n",
            "[Train] epoch 24 loss 0.112 acc 94.9: 100%|██████████| 22/22 [00:19<00:00,  1.13it/s]\n",
            "[Test] epoch 24 loss 0.115 acc 95.4: 100%|██████████| 6/6 [00:03<00:00,  1.78it/s]\n",
            "[Train] epoch 25 loss 0.114 acc 94.43: 100%|██████████| 22/22 [00:20<00:00,  1.09it/s]\n",
            "[Test] epoch 25 loss 0.116 acc 95.4: 100%|██████████| 6/6 [00:03<00:00,  1.90it/s]\n",
            "[Train] epoch 26 loss 0.11 acc 94.72: 100%|██████████| 22/22 [00:20<00:00,  1.08it/s]\n",
            "[Test] epoch 26 loss 0.115 acc 95.26: 100%|██████████| 6/6 [00:03<00:00,  1.94it/s]\n",
            "[Train] epoch 27 loss 0.115 acc 94.68: 100%|██████████| 22/22 [00:19<00:00,  1.14it/s]\n",
            "[Test] epoch 27 loss 0.115 acc 95.26: 100%|██████████| 6/6 [00:04<00:00,  1.36it/s]\n",
            "[Train] epoch 28 loss 0.116 acc 94.68: 100%|██████████| 22/22 [00:21<00:00,  1.02it/s]\n",
            "[Test] epoch 28 loss 0.115 acc 95.4: 100%|██████████| 6/6 [00:03<00:00,  1.55it/s]\n",
            "[Train] epoch 29 loss 0.115 acc 94.14: 100%|██████████| 22/22 [00:21<00:00,  1.04it/s]\n",
            "[Test] epoch 29 loss 0.115 acc 95.26: 100%|██████████| 6/6 [00:03<00:00,  1.93it/s]\n",
            "100%|██████████| 6/6 [00:04<00:00,  1.38it/s]"
          ]
        },
        {
          "output_type": "stream",
          "name": "stdout",
          "text": [
            "              precision    recall  f1-score   support\n",
            "\n",
            "         neg       0.98      0.96      0.97       613\n",
            "         pos       0.76      0.88      0.82        83\n",
            "\n",
            "    accuracy                           0.95       696\n",
            "   macro avg       0.87      0.92      0.89       696\n",
            "weighted avg       0.96      0.95      0.95       696\n",
            "\n"
          ]
        },
        {
          "output_type": "stream",
          "name": "stderr",
          "text": [
            "\n"
          ]
        }
      ]
    },
    {
      "cell_type": "markdown",
      "source": [
        "The accuracies above are the results of Normal Baseline Training.\n",
        "\n",
        "And codes below plotted the loss, accuracy and the learning rate of this model."
      ],
      "metadata": {
        "id": "1wsVjcJ_a4nG"
      }
    },
    {
      "cell_type": "code",
      "source": [
        "import matplotlib.pyplot as plt\n",
        "\n",
        "x = [i for i in range(1, 31)]\n",
        "\n",
        "# loss\n",
        "plt.plot( x, logs['train loss'], label='train loss')\n",
        "plt.plot( x, logs['test loss'], label='test loss')\n",
        "plt.xlabel('epoch')\n",
        "plt.ylabel('loss')\n",
        "plt.legend()\n",
        "plt.show()\n",
        "\n",
        "plt.clf()\n",
        "\n",
        "# acc\n",
        "plt.plot( x, logs['train acc'], label='train acc')\n",
        "plt.plot( x, logs['test acc'], label='test acc')\n",
        "plt.xlabel('epoch')\n",
        "plt.ylabel('acc')\n",
        "plt.legend()\n",
        "plt.show()\n",
        "\n",
        "plt.clf()\n",
        "\n",
        "# lr\n",
        "\n",
        "plt.plot( x, logs['lr'], label='learning rate')\n",
        "plt.xlabel('epoch')\n",
        "plt.ylabel('learning rate')\n",
        "plt.show()"
      ],
      "metadata": {
        "colab": {
          "base_uri": "https://localhost:8080/",
          "height": 803
        },
        "id": "02NyAhupfdn9",
        "outputId": "904d1e4e-db1b-49c9-b413-eb299bae16d3"
      },
      "execution_count": null,
      "outputs": [
        {
          "output_type": "display_data",
          "data": {
            "text/plain": [
              "<Figure size 432x288 with 1 Axes>"
            ],
            "image/png": "[encoded data removed]"
          },
          "metadata": {
            "needs_background": "light"
          }
        },
        {
          "output_type": "display_data",
          "data": {
            "text/plain": [
              "<Figure size 432x288 with 1 Axes>"
            ],
            "image/png": "[encoded data removed]"
          },
          "metadata": {
            "needs_background": "light"
          }
        },
        {
          "output_type": "display_data",
          "data": {
            "text/plain": [
              "<Figure size 432x288 with 1 Axes>"
            ],
            "image/png": "[encoded data removed]"
          },
          "metadata": {
            "needs_background": "light"
          }
        }
      ]
    }
  ]
}